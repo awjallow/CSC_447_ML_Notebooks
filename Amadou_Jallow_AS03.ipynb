{
 "cells": [
  {
   "cell_type": "markdown",
   "id": "55ce7a66",
   "metadata": {},
   "source": [
    "<a href=\"https://colab.research.google.com/github/awjallow/CSC_447_ML_Notebooks/blob/main/Amadou_Jallow_AS03.ipynb\" target=\"_parent\"><img src=\"https://colab.research.google.com/assets/colab-badge.svg\" alt=\"Open In Colab\"/></a>"
   ]
  },
  {
   "cell_type": "code",
   "execution_count": 219,
   "id": "313616f7",
   "metadata": {},
   "outputs": [],
   "source": [
    "# imports\n",
    "import pandas as pd\n",
    "import numpy as np\n",
    "import matplotlib.pyplot as plt\n",
    "from sklearn import datasets\n",
    "from sklearn.model_selection import train_test_split\n",
    "from sklearn.preprocessing import StandardScaler\n",
    "from sklearn.metrics import accuracy_score\n",
    "from sklearn.linear_model import LogisticRegression\n",
    "from sklearn.svm import SVC\n",
    "from sklearn.tree import DecisionTreeClassifier\n",
    "from sklearn.ensemble import AdaBoostClassifier\n",
    "from sklearn.ensemble import RandomForestClassifier\n",
    "from sklearn.metrics import accuracy_score"
   ]
  },
  {
   "cell_type": "code",
   "execution_count": 220,
   "id": "14e97b02",
   "metadata": {},
   "outputs": [
    {
     "data": {
      "text/html": [
       "<div>\n",
       "<style scoped>\n",
       "    .dataframe tbody tr th:only-of-type {\n",
       "        vertical-align: middle;\n",
       "    }\n",
       "\n",
       "    .dataframe tbody tr th {\n",
       "        vertical-align: top;\n",
       "    }\n",
       "\n",
       "    .dataframe thead th {\n",
       "        text-align: right;\n",
       "    }\n",
       "</style>\n",
       "<table border=\"1\" class=\"dataframe\">\n",
       "  <thead>\n",
       "    <tr style=\"text-align: right;\">\n",
       "      <th></th>\n",
       "      <th>Sepal length</th>\n",
       "      <th>Sepal width</th>\n",
       "      <th>Petal length</th>\n",
       "      <th>Petal width</th>\n",
       "      <th>Class label</th>\n",
       "    </tr>\n",
       "  </thead>\n",
       "  <tbody>\n",
       "    <tr>\n",
       "      <th>0</th>\n",
       "      <td>5.1</td>\n",
       "      <td>3.5</td>\n",
       "      <td>1.4</td>\n",
       "      <td>0.2</td>\n",
       "      <td>Iris-setosa</td>\n",
       "    </tr>\n",
       "    <tr>\n",
       "      <th>1</th>\n",
       "      <td>4.9</td>\n",
       "      <td>3.0</td>\n",
       "      <td>1.4</td>\n",
       "      <td>0.2</td>\n",
       "      <td>Iris-setosa</td>\n",
       "    </tr>\n",
       "    <tr>\n",
       "      <th>2</th>\n",
       "      <td>4.7</td>\n",
       "      <td>3.2</td>\n",
       "      <td>1.3</td>\n",
       "      <td>0.2</td>\n",
       "      <td>Iris-setosa</td>\n",
       "    </tr>\n",
       "    <tr>\n",
       "      <th>3</th>\n",
       "      <td>4.6</td>\n",
       "      <td>3.1</td>\n",
       "      <td>1.5</td>\n",
       "      <td>0.2</td>\n",
       "      <td>Iris-setosa</td>\n",
       "    </tr>\n",
       "    <tr>\n",
       "      <th>4</th>\n",
       "      <td>5.0</td>\n",
       "      <td>3.6</td>\n",
       "      <td>1.4</td>\n",
       "      <td>0.2</td>\n",
       "      <td>Iris-setosa</td>\n",
       "    </tr>\n",
       "  </tbody>\n",
       "</table>\n",
       "</div>"
      ],
      "text/plain": [
       "   Sepal length  Sepal width  Petal length  Petal width  Class label\n",
       "0           5.1          3.5           1.4          0.2  Iris-setosa\n",
       "1           4.9          3.0           1.4          0.2  Iris-setosa\n",
       "2           4.7          3.2           1.3          0.2  Iris-setosa\n",
       "3           4.6          3.1           1.5          0.2  Iris-setosa\n",
       "4           5.0          3.6           1.4          0.2  Iris-setosa"
      ]
     },
     "metadata": {},
     "output_type": "display_data"
    }
   ],
   "source": [
    "df = pd.read_csv('https://archive.ics.uci.edu/ml/machine-learning-databases/iris/iris.data', header = None)\n",
    "df.columns = ['Sepal length', 'Sepal width', 'Petal length', 'Petal width', 'Class label']\n",
    "display(df.head())"
   ]
  },
  {
   "cell_type": "code",
   "execution_count": 221,
   "id": "712fbef8",
   "metadata": {},
   "outputs": [
    {
     "name": "stdout",
     "output_type": "stream",
     "text": [
      "['Iris-setosa' 'Iris-versicolor' 'Iris-virginica']\n"
     ]
    }
   ],
   "source": [
    "IA = df.iloc[:,:].values\n",
    "Cl = IA[:,4]\n",
    "IC = np.unique(IA[:,4])\n",
    "\n",
    "print(IC)"
   ]
  },
  {
   "cell_type": "markdown",
   "id": "278f7b23",
   "metadata": {},
   "source": [
    "# Data Splitting"
   ]
  },
  {
   "cell_type": "code",
   "execution_count": 222,
   "id": "a4abea25",
   "metadata": {},
   "outputs": [
    {
     "name": "stdout",
     "output_type": "stream",
     "text": [
      "Training data points: 100\n",
      "Testing data points: 50\n",
      "Class labels: [0 1 2] (mapped from ['Iris-setosa' 'Iris-versicolor' 'Iris-virginica']\n"
     ]
    }
   ],
   "source": [
    "X = df[['Sepal length', 'Sepal width', 'Petal length', 'Petal width']].values\n",
    "y = pd.factorize(df['Class label'])[0]\n",
    "# display(y)\n",
    "\n",
    "X_train, X_test, y_train, y_test = train_test_split(X, y, test_size=0.33, random_state=42)\n",
    "# display(X_train)\n",
    "\n",
    "print('Training data points: {}'.format(X_train.shape[0]))\n",
    "print('Testing data points: {}'.format(X_test.shape[0]))\n",
    "print('Class labels: {} (mapped from {}'.format(np.unique(y), np.unique(df['Class label'])))"
   ]
  },
  {
   "cell_type": "code",
   "execution_count": 223,
   "id": "90a149a4",
   "metadata": {},
   "outputs": [],
   "source": [
    "sc = StandardScaler()\n",
    "sc.fit(X_train)\n",
    "X_train_std = sc.transform(X_train)\n",
    "X_test_std = sc.transform(X_test)"
   ]
  },
  {
   "cell_type": "markdown",
   "id": "9bcae9ed",
   "metadata": {},
   "source": [
    "# Adaline"
   ]
  },
  {
   "cell_type": "code",
   "execution_count": 224,
   "id": "426a678c",
   "metadata": {},
   "outputs": [],
   "source": [
    "class AdalineGD(object):\n",
    "    \"\"\"ADAptive LInear NEuron classifier.\n",
    "\n",
    "    Parameters\n",
    "    ------------\n",
    "    eta : float\n",
    "        Learning rate (between 0.0 and 1.0)\n",
    "    n_iter : int\n",
    "        Passes over the training dataset.\n",
    "    random_state : int\n",
    "        The seed of the pseudo random number generator.\n",
    "\n",
    "    Attributes\n",
    "    -----------\n",
    "    w_ : 1d-array\n",
    "        Weights after fitting.\n",
    "    errors_ : list\n",
    "        Number of misclassifications in every epoch.\n",
    "\n",
    "    \"\"\"\n",
    "    def __init__(self, eta=0.01, n_iter=50, random_state=1):\n",
    "        self.eta = eta\n",
    "        self.n_iter = n_iter\n",
    "        self.random_state = random_state\n",
    "\n",
    "    def fit(self, X, y):\n",
    "        \"\"\" Fit training data.\n",
    "\n",
    "        Parameters\n",
    "        ----------\n",
    "        X : array-like; shape = [n_samples, n_features]\n",
    "            Training vectors, where n_samples is the number of samples and\n",
    "            n_features is the number of features.\n",
    "        y : array-like; shape = [n_samples]\n",
    "            Target values or labels.\n",
    "\n",
    "        Returns\n",
    "        -------\n",
    "        self : object\n",
    "\n",
    "        \"\"\"\n",
    "        rgen = np.random.RandomState(self.random_state)\n",
    "        self.w_ = rgen.normal(loc=0.0, scale=0.01, size=1+X.shape[1])\n",
    "        self.cost_ = []\n",
    "\n",
    "        for i in range(self.n_iter):\n",
    "            output = self.activation(X)\n",
    "            \n",
    "            # Cost function\n",
    "            error = (y - output)\n",
    "            cost = (error**2).sum() / 2.0\n",
    "            self.cost_.append(cost)\n",
    "            \n",
    "            # Update rule\n",
    "            self.w_[1:] += self.eta * X.T.dot(error)\n",
    "            self.w_[0] += self.eta * error.sum()\n",
    "            \n",
    "        return self\n",
    "\n",
    "    def net_input(self, X):\n",
    "        \"\"\"Calculate net input\"\"\"\n",
    "        return np.dot(X, self.w_[1:]) + self.w_[0]\n",
    "\n",
    "    def activation(self, X):\n",
    "        \"\"\"Compute linear activation\"\"\"\n",
    "        return self.net_input(X)\n",
    "\n",
    "    def predict(self, X):\n",
    "        \"\"\"Return class label after unit step\"\"\"\n",
    "        return np.where(self.activation(X) >= 0.0, 1, -1)"
   ]
  },
  {
   "cell_type": "code",
   "execution_count": 225,
   "id": "229fd72a",
   "metadata": {},
   "outputs": [
    {
     "data": {
      "image/png": "[encoded data removed]",
      "text/plain": [
       "<Figure size 576x288 with 2 Axes>"
      ]
     },
     "metadata": {
      "needs_background": "light"
     },
     "output_type": "display_data"
    }
   ],
   "source": [
    "fig, ax = plt.subplots(nrows=1, ncols=2, figsize=(8, 4))\n",
    "\n",
    "ada1 = AdalineGD(n_iter=20, eta=0.0001).fit(X_train_std, y_train)\n",
    "ax[0].plot(range(1, len(ada1.cost_) + 1), ada1.cost_, marker='o')\n",
    "ax[0].set_xlabel('Epochs')\n",
    "ax[0].set_ylabel('Sum-squared-error')\n",
    "ax[0].set_title('Adaline - Learning rate 0.0001')\n",
    "\n",
    "ada2 = AdalineGD(n_iter=20, eta=0.1).fit(X_train_std, y_train)\n",
    "ax[1].plot(range(1, len(ada2.cost_) + 1), np.log10(ada2.cost_), marker='o')\n",
    "ax[1].set_xlabel('Epochs')\n",
    "ax[1].set_ylabel('log(Sum-squared-error)')\n",
    "ax[1].set_title('Adaline - Learning rate 0.1')\n",
    "\n",
    "plt.tight_layout()\n",
    "plt.show()"
   ]
  },
  {
   "cell_type": "code",
   "execution_count": 226,
   "id": "648cc7bd",
   "metadata": {},
   "outputs": [
    {
     "data": {
      "image/png": "[encoded data removed]",
      "text/plain": [
       "<Figure size 432x288 with 1 Axes>"
      ]
     },
     "metadata": {
      "needs_background": "light"
     },
     "output_type": "display_data"
    },
    {
     "name": "stdout",
     "output_type": "stream",
     "text": [
      "Accuracy: 0.04\n"
     ]
    }
   ],
   "source": [
    "ada = AdalineGD(n_iter=20, eta=0.01)\n",
    "ada.fit(X_train_std, y_train)\n",
    "\n",
    "# cost values\n",
    "\n",
    "plt.plot(range(1, len(ada.cost_) + 1), ada.cost_, marker='o')\n",
    "plt.xlabel('Epochs')\n",
    "plt.ylabel('Sum-squared-error')\n",
    "\n",
    "plt.tight_layout()\n",
    "plt.show()\n",
    "\n",
    "# testing accuracy\n",
    "\n",
    "y_pred = ada.predict(X_test_std)\n",
    "print('Accuracy: %.2f' % accuracy_score(y_test, y_pred))"
   ]
  },
  {
   "cell_type": "code",
   "execution_count": 227,
   "id": "ac3a9407",
   "metadata": {},
   "outputs": [
    {
     "name": "stdout",
     "output_type": "stream",
     "text": [
      "Logistic Regression: 0.97333\n",
      "SVM Linear: 0.99333\n",
      "SVM Polynomial: 0.97333\n",
      "SVM RBF: 0.97333\n",
      "Decision Tree: 1.00000\n",
      "Ada Boost: 1.00000\n",
      "Random Forest: 1.00000\n"
     ]
    }
   ],
   "source": [
    "# Logistic Regression\n",
    "logistic_reg = LogisticRegression()\n",
    "logistic_reg.fit(X, y)\n",
    "logistic_reg_score = logistic_reg.score(X, y)\n",
    "\n",
    "\n",
    "# SVM Linear\n",
    "svm_linear = SVC(kernel=\"linear\")\n",
    "svm_linear.fit(X, y)\n",
    "svm_linear_score = svm_linear.score(X, y)\n",
    "\n",
    "\n",
    "# SVM Polynomial\n",
    "svm_poly = SVC(kernel=\"poly\")\n",
    "svm_poly.fit(X, y)\n",
    "svm_poly_score = svm_poly.score(X, y)\n",
    "\n",
    "\n",
    "# SVM RBF\n",
    "svm_rbf = SVC(kernel=\"rbf\")\n",
    "svm_rbf.fit(X, y)\n",
    "svm_rbf_score = svm_rbf.score(X, y)\n",
    "\n",
    "\n",
    "# Decision Tree\n",
    "decision_tree = DecisionTreeClassifier()\n",
    "decision_tree.fit(X ,y)\n",
    "decision_tree_score = decision_tree.score(X, y)\n",
    "\n",
    "\n",
    "# Adaboost\n",
    "base_estimator = DecisionTreeClassifier()\n",
    "ada_boost = AdaBoostClassifier(base_estimator)\n",
    "ada_boost.fit(X, y)\n",
    "ada_boost_score = ada_boost.score(X, y)\n",
    "\n",
    "\n",
    "# Random Forest\n",
    "random_forest = RandomForestClassifier()\n",
    "random_forest.fit(X, y)\n",
    "random_forest_score = random_forest.score(X, y)\n",
    "\n",
    "print(\"Logistic Regression: %.5f\" % logistic_reg_score)\n",
    "print(\"SVM Linear: %.5f\" %  svm_linear_score)\n",
    "print(\"SVM Polynomial: %.5f\" %  svm_poly_score)\n",
    "print(\"SVM RBF: %.5f\" %  svm_rbf_score)\n",
    "print(\"Decision Tree: %.5f\" %  decision_tree_score)\n",
    "print(\"Ada Boost: %.5f\" %  ada_boost_score)\n",
    "print(\"Random Forest: %.5f\" %  random_forest_score)"
   ]
  },
  {
   "cell_type": "markdown",
   "id": "e70d77c0",
   "metadata": {},
   "source": [
    "# Logistic Regression"
   ]
  },
  {
   "cell_type": "code",
   "execution_count": 228,
   "id": "47a41a5f",
   "metadata": {},
   "outputs": [
    {
     "name": "stdout",
     "output_type": "stream",
     "text": [
      "Logistic Regression: Train Score = 0.96, Test Score = 1.0\n"
     ]
    }
   ],
   "source": [
    "log_reg_split = LogisticRegression()\n",
    "log_reg_split.fit(X_train, y_train)\n",
    "log_reg_split_train_score = log_reg_split.score(X_train, y_train)\n",
    "log_reg_split_test_score = log_reg_split.score(X_test, y_test)\n",
    "\n",
    "print(\"Logistic Regression: Train Score = {}, Test Score = {}\".format(log_reg_split_train_score, log_reg_split_test_score))\n"
   ]
  },
  {
   "cell_type": "markdown",
   "id": "c7141204",
   "metadata": {},
   "source": [
    "# SVM Linear"
   ]
  },
  {
   "cell_type": "code",
   "execution_count": 229,
   "id": "e184e459",
   "metadata": {},
   "outputs": [
    {
     "name": "stdout",
     "output_type": "stream",
     "text": [
      "SVM Linear: Train Score = 0.97, Test Score = 1.0\n"
     ]
    }
   ],
   "source": [
    "svm_linear_split = SVC(kernel=\"linear\")\n",
    "svm_linear_split.fit(X_train, y_train)\n",
    "svm_linear_split_train_score = svm_linear_split.score(X_train, y_train)\n",
    "svm_linear_split_test_score = svm_linear_split.score(X_test, y_test)\n",
    "\n",
    "print(\"SVM Linear: Train Score = {}, Test Score = {}\".format(svm_linear_split_train_score, svm_linear_split_test_score))"
   ]
  },
  {
   "cell_type": "markdown",
   "id": "048e865c",
   "metadata": {},
   "source": [
    "# SVM Polynomial"
   ]
  },
  {
   "cell_type": "code",
   "execution_count": 230,
   "id": "675e400c",
   "metadata": {},
   "outputs": [
    {
     "name": "stdout",
     "output_type": "stream",
     "text": [
      "SVM Polynomial: Train Score = 0.98, Test Score = 1.0\n"
     ]
    }
   ],
   "source": [
    "svm_poly_split = SVC(kernel=\"poly\")\n",
    "svm_poly_split.fit(X_train, y_train)\n",
    "svm_poly_split_train_score = svm_poly_split.score(X_train, y_train)\n",
    "svm_poly_split_test_score = svm_poly_split.score(X_test, y_test)\n",
    "\n",
    "print(\"SVM Polynomial: Train Score = {}, Test Score = {}\".format(svm_poly_split_train_score, svm_poly_split_test_score))"
   ]
  },
  {
   "cell_type": "markdown",
   "id": "f5d699d8",
   "metadata": {},
   "source": [
    "# SVM RBF"
   ]
  },
  {
   "cell_type": "code",
   "execution_count": 231,
   "id": "63596146",
   "metadata": {},
   "outputs": [
    {
     "name": "stdout",
     "output_type": "stream",
     "text": [
      "SVM RBF: Train Score = 0.96, Test Score = 1.0\n"
     ]
    }
   ],
   "source": [
    "svm_rbf_split = SVC(kernel=\"rbf\")\n",
    "svm_rbf_split.fit(X_train, y_train)\n",
    "svm_rbf_split_train_score = svm_rbf_split.score(X_train, y_train)\n",
    "svm_rbf_split_test_score = svm_rbf_split.score(X_test, y_test)\n",
    "\n",
    "print(\"SVM RBF: Train Score = {}, Test Score = {}\".format(svm_rbf_split_train_score, svm_rbf_split_test_score))"
   ]
  },
  {
   "cell_type": "markdown",
   "id": "4b8deeb3",
   "metadata": {},
   "source": [
    "# Decision Trees"
   ]
  },
  {
   "cell_type": "code",
   "execution_count": 232,
   "id": "4b53b831",
   "metadata": {},
   "outputs": [
    {
     "name": "stdout",
     "output_type": "stream",
     "text": [
      "Decision Trees: Train Score = 1.0, Test Score = 0.96\n"
     ]
    }
   ],
   "source": [
    "decision_tree_split = DecisionTreeClassifier()\n",
    "decision_tree_split.fit(X_train, y_train)\n",
    "decision_tree_split_train_score = decision_tree_split.score(X_train, y_train)\n",
    "decision_tree_split_test_score = decision_tree_split.score(X_test, y_test)\n",
    "\n",
    "print(\"Decision Trees: Train Score = {}, Test Score = {}\".format(decision_tree_split_train_score, decision_tree_split_test_score))"
   ]
  },
  {
   "cell_type": "markdown",
   "id": "fbd0cc11",
   "metadata": {},
   "source": [
    "# Ada Boost"
   ]
  },
  {
   "cell_type": "code",
   "execution_count": 233,
   "id": "ea42bf0d",
   "metadata": {},
   "outputs": [
    {
     "name": "stdout",
     "output_type": "stream",
     "text": [
      "Ada Boost: Train Score = 1.0, Test Score = 1.0\n"
     ]
    }
   ],
   "source": [
    "base_estimator = DecisionTreeClassifier()\n",
    "ada_boost_split = AdaBoostClassifier(base_estimator)\n",
    "ada_boost_split.fit(X_train, y_train)\n",
    "ada_boost_split_train_score = ada_boost_split.score(X_train, y_train)\n",
    "ada_boost_split_test_score = ada_boost_split.score(X_test, y_test)\n",
    "print(\"Ada Boost: Train Score = {}, Test Score = {}\".format(ada_boost_split_train_score, ada_boost_split_test_score))"
   ]
  },
  {
   "cell_type": "markdown",
   "id": "76137075",
   "metadata": {},
   "source": [
    "# Random Forest"
   ]
  },
  {
   "cell_type": "code",
   "execution_count": 234,
   "id": "f660a512",
   "metadata": {},
   "outputs": [
    {
     "name": "stdout",
     "output_type": "stream",
     "text": [
      "Random Forestr: Train Score = 1.0, Test Score = 0.98\n"
     ]
    }
   ],
   "source": [
    "rand_forest_split = RandomForestClassifier()\n",
    "rand_forest_split.fit(X_train, y_train)\n",
    "rand_forest_split_train_score = rand_forest_split.score(X_train, y_train)\n",
    "rand_forest_split_test_score = rand_forest_split.score(X_test, y_test)\n",
    "\n",
    "print(\"Random Forestr: Train Score = {}, Test Score = {}\".format(rand_forest_split_train_score, rand_forest_split_test_score))"
   ]
  },
  {
   "cell_type": "markdown",
   "id": "30585a56",
   "metadata": {},
   "source": [
    "# Discussion \n",
    "Decision trees, ada boost and random forest are all prone to overfittting which resulted in varying train and test score accuraccy. The test score ia nearly always lower than the train score for all 3 aforementioned models.The SVM models and Logistic Regression are somehow quite the opposite as they tend to have better prevention from overfitting. Their test scores in most cases score higher than the train scores."
   ]
  },
  {
   "cell_type": "code",
   "execution_count": null,
   "id": "4caba742",
   "metadata": {},
   "outputs": [],
   "source": []
  }
 ],
 "metadata": {
  "kernelspec": {
   "display_name": "Python 3 (ipykernel)",
   "language": "python",
   "name": "python3"
  },
  "language_info": {
   "codemirror_mode": {
    "name": "ipython",
    "version": 3
   },
   "file_extension": ".py",
   "mimetype": "text/x-python",
   "name": "python",
   "nbconvert_exporter": "python",
   "pygments_lexer": "ipython3",
   "version": "3.9.7"
  }
 },
 "nbformat": 4,
 "nbformat_minor": 5
}
